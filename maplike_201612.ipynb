{
 "cells": [
  {
   "cell_type": "code",
   "execution_count": 2,
   "metadata": {
    "collapsed": true
   },
   "outputs": [],
   "source": [
    "import numpy as np"
   ]
  },
  {
   "cell_type": "code",
   "execution_count": 3,
   "metadata": {
    "collapsed": true
   },
   "outputs": [],
   "source": [
    "import pandas as pd"
   ]
  },
  {
   "cell_type": "code",
   "execution_count": 4,
   "metadata": {
    "collapsed": true
   },
   "outputs": [],
   "source": [
    "import scipy as sp"
   ]
  },
  {
   "cell_type": "code",
   "execution_count": 5,
   "metadata": {
    "collapsed": true
   },
   "outputs": [],
   "source": [
    "df = pd.read_csv(\"maplike_survey_201612.csv\")"
   ]
  },
  {
   "cell_type": "code",
   "execution_count": 43,
   "metadata": {
    "collapsed": false
   },
   "outputs": [
    {
     "data": {
      "text/html": [
       "<div>\n",
       "<table border=\"1\" class=\"dataframe\">\n",
       "  <thead>\n",
       "    <tr style=\"text-align: right;\">\n",
       "      <th></th>\n",
       "      <th>id</th>\n",
       "      <th>AGE</th>\n",
       "      <th>DEGREE</th>\n",
       "      <th>FAC</th>\n",
       "      <th>ITSKILLS</th>\n",
       "      <th>VISSKILLS</th>\n",
       "      <th>C1_SQ001</th>\n",
       "      <th>C1_SQ002</th>\n",
       "      <th>C1_SQ003</th>\n",
       "      <th>C2_SQ003</th>\n",
       "      <th>C2_SQ001</th>\n",
       "      <th>C2_SQ002</th>\n",
       "      <th>C3_SQ001</th>\n",
       "      <th>C3_SQ002</th>\n",
       "      <th>C3_SQ003</th>\n",
       "    </tr>\n",
       "  </thead>\n",
       "  <tbody>\n",
       "    <tr>\n",
       "      <th>count</th>\n",
       "      <td>40.000000</td>\n",
       "      <td>40.000000</td>\n",
       "      <td>40.00000</td>\n",
       "      <td>40.000000</td>\n",
       "      <td>40.000000</td>\n",
       "      <td>40.000000</td>\n",
       "      <td>40.000000</td>\n",
       "      <td>40.000000</td>\n",
       "      <td>40.000000</td>\n",
       "      <td>40.000000</td>\n",
       "      <td>40.000000</td>\n",
       "      <td>40.000000</td>\n",
       "      <td>40.000000</td>\n",
       "      <td>40.000000</td>\n",
       "      <td>40.000000</td>\n",
       "    </tr>\n",
       "    <tr>\n",
       "      <th>mean</th>\n",
       "      <td>20.500000</td>\n",
       "      <td>22.625000</td>\n",
       "      <td>0.77500</td>\n",
       "      <td>6.525000</td>\n",
       "      <td>5.175000</td>\n",
       "      <td>3.575000</td>\n",
       "      <td>3.700000</td>\n",
       "      <td>4.425000</td>\n",
       "      <td>5.225000</td>\n",
       "      <td>2.650000</td>\n",
       "      <td>3.975000</td>\n",
       "      <td>4.400000</td>\n",
       "      <td>3.550000</td>\n",
       "      <td>4.275000</td>\n",
       "      <td>5.825000</td>\n",
       "    </tr>\n",
       "    <tr>\n",
       "      <th>std</th>\n",
       "      <td>11.690452</td>\n",
       "      <td>2.695557</td>\n",
       "      <td>0.65974</td>\n",
       "      <td>2.571914</td>\n",
       "      <td>1.375379</td>\n",
       "      <td>1.337573</td>\n",
       "      <td>1.505545</td>\n",
       "      <td>1.448031</td>\n",
       "      <td>1.609069</td>\n",
       "      <td>1.477177</td>\n",
       "      <td>1.804375</td>\n",
       "      <td>1.794579</td>\n",
       "      <td>1.647842</td>\n",
       "      <td>1.739253</td>\n",
       "      <td>1.483024</td>\n",
       "    </tr>\n",
       "    <tr>\n",
       "      <th>min</th>\n",
       "      <td>1.000000</td>\n",
       "      <td>17.000000</td>\n",
       "      <td>0.00000</td>\n",
       "      <td>2.000000</td>\n",
       "      <td>3.000000</td>\n",
       "      <td>1.000000</td>\n",
       "      <td>1.000000</td>\n",
       "      <td>1.000000</td>\n",
       "      <td>1.000000</td>\n",
       "      <td>1.000000</td>\n",
       "      <td>1.000000</td>\n",
       "      <td>1.000000</td>\n",
       "      <td>1.000000</td>\n",
       "      <td>1.000000</td>\n",
       "      <td>1.000000</td>\n",
       "    </tr>\n",
       "    <tr>\n",
       "      <th>25%</th>\n",
       "      <td>10.750000</td>\n",
       "      <td>21.000000</td>\n",
       "      <td>0.00000</td>\n",
       "      <td>4.000000</td>\n",
       "      <td>5.000000</td>\n",
       "      <td>3.000000</td>\n",
       "      <td>3.000000</td>\n",
       "      <td>3.750000</td>\n",
       "      <td>4.750000</td>\n",
       "      <td>1.000000</td>\n",
       "      <td>2.000000</td>\n",
       "      <td>3.000000</td>\n",
       "      <td>2.000000</td>\n",
       "      <td>3.000000</td>\n",
       "      <td>5.000000</td>\n",
       "    </tr>\n",
       "    <tr>\n",
       "      <th>50%</th>\n",
       "      <td>20.500000</td>\n",
       "      <td>23.000000</td>\n",
       "      <td>1.00000</td>\n",
       "      <td>8.000000</td>\n",
       "      <td>5.000000</td>\n",
       "      <td>4.000000</td>\n",
       "      <td>4.000000</td>\n",
       "      <td>4.000000</td>\n",
       "      <td>6.000000</td>\n",
       "      <td>2.000000</td>\n",
       "      <td>4.000000</td>\n",
       "      <td>5.000000</td>\n",
       "      <td>4.000000</td>\n",
       "      <td>5.000000</td>\n",
       "      <td>6.000000</td>\n",
       "    </tr>\n",
       "    <tr>\n",
       "      <th>75%</th>\n",
       "      <td>30.250000</td>\n",
       "      <td>24.000000</td>\n",
       "      <td>1.00000</td>\n",
       "      <td>9.000000</td>\n",
       "      <td>6.000000</td>\n",
       "      <td>4.250000</td>\n",
       "      <td>4.000000</td>\n",
       "      <td>6.000000</td>\n",
       "      <td>6.000000</td>\n",
       "      <td>4.000000</td>\n",
       "      <td>5.000000</td>\n",
       "      <td>6.000000</td>\n",
       "      <td>5.000000</td>\n",
       "      <td>6.000000</td>\n",
       "      <td>7.000000</td>\n",
       "    </tr>\n",
       "    <tr>\n",
       "      <th>max</th>\n",
       "      <td>40.000000</td>\n",
       "      <td>28.000000</td>\n",
       "      <td>2.00000</td>\n",
       "      <td>9.000000</td>\n",
       "      <td>7.000000</td>\n",
       "      <td>6.000000</td>\n",
       "      <td>7.000000</td>\n",
       "      <td>7.000000</td>\n",
       "      <td>7.000000</td>\n",
       "      <td>6.000000</td>\n",
       "      <td>7.000000</td>\n",
       "      <td>7.000000</td>\n",
       "      <td>7.000000</td>\n",
       "      <td>7.000000</td>\n",
       "      <td>7.000000</td>\n",
       "    </tr>\n",
       "  </tbody>\n",
       "</table>\n",
       "</div>"
      ],
      "text/plain": [
       "              id        AGE    DEGREE        FAC   ITSKILLS  VISSKILLS  \\\n",
       "count  40.000000  40.000000  40.00000  40.000000  40.000000  40.000000   \n",
       "mean   20.500000  22.625000   0.77500   6.525000   5.175000   3.575000   \n",
       "std    11.690452   2.695557   0.65974   2.571914   1.375379   1.337573   \n",
       "min     1.000000  17.000000   0.00000   2.000000   3.000000   1.000000   \n",
       "25%    10.750000  21.000000   0.00000   4.000000   5.000000   3.000000   \n",
       "50%    20.500000  23.000000   1.00000   8.000000   5.000000   4.000000   \n",
       "75%    30.250000  24.000000   1.00000   9.000000   6.000000   4.250000   \n",
       "max    40.000000  28.000000   2.00000   9.000000   7.000000   6.000000   \n",
       "\n",
       "        C1_SQ001   C1_SQ002   C1_SQ003   C2_SQ003   C2_SQ001   C2_SQ002  \\\n",
       "count  40.000000  40.000000  40.000000  40.000000  40.000000  40.000000   \n",
       "mean    3.700000   4.425000   5.225000   2.650000   3.975000   4.400000   \n",
       "std     1.505545   1.448031   1.609069   1.477177   1.804375   1.794579   \n",
       "min     1.000000   1.000000   1.000000   1.000000   1.000000   1.000000   \n",
       "25%     3.000000   3.750000   4.750000   1.000000   2.000000   3.000000   \n",
       "50%     4.000000   4.000000   6.000000   2.000000   4.000000   5.000000   \n",
       "75%     4.000000   6.000000   6.000000   4.000000   5.000000   6.000000   \n",
       "max     7.000000   7.000000   7.000000   6.000000   7.000000   7.000000   \n",
       "\n",
       "        C3_SQ001   C3_SQ002   C3_SQ003  \n",
       "count  40.000000  40.000000  40.000000  \n",
       "mean    3.550000   4.275000   5.825000  \n",
       "std     1.647842   1.739253   1.483024  \n",
       "min     1.000000   1.000000   1.000000  \n",
       "25%     2.000000   3.000000   5.000000  \n",
       "50%     4.000000   5.000000   6.000000  \n",
       "75%     5.000000   6.000000   7.000000  \n",
       "max     7.000000   7.000000   7.000000  "
      ]
     },
     "execution_count": 43,
     "metadata": {},
     "output_type": "execute_result"
    }
   ],
   "source": [
    "df.describe()"
   ]
  },
  {
   "cell_type": "markdown",
   "metadata": {},
   "source": [
    "## Calculating 95% confidence interval"
   ]
  },
  {
   "cell_type": "code",
   "execution_count": 8,
   "metadata": {
    "collapsed": true
   },
   "outputs": [],
   "source": [
    "from scipy import stats"
   ]
  },
  {
   "cell_type": "code",
   "execution_count": 9,
   "metadata": {
    "collapsed": false,
    "scrolled": false
   },
   "outputs": [
    {
     "data": {
      "text/plain": [
       "(98.122997143856793, 98.375002856143198)"
      ]
     },
     "execution_count": 9,
     "metadata": {},
     "output_type": "execute_result"
    }
   ],
   "source": [
    "# This is from a text-book: http://www.stat.yale.edu/Courses/1997-98/101/confint.htm\n",
    "mean = 98.249\n",
    "sd = 0.733\n",
    "N = 130\n",
    "stats.norm.interval(0.95, loc=mean, scale=sd / np.sqrt(N))"
   ]
  },
  {
   "cell_type": "code",
   "execution_count": 44,
   "metadata": {
    "collapsed": false,
    "scrolled": false
   },
   "outputs": [
    {
     "data": {
      "text/plain": [
       "(21.78965369022621, 23.46034630977379)"
      ]
     },
     "execution_count": 44,
     "metadata": {},
     "output_type": "execute_result"
    }
   ],
   "source": [
    "# 95% confidence interval for AGE\n",
    "mean = df.AGE.mean()\n",
    "sd = df.AGE.std()\n",
    "N = len(df.AGE)\n",
    "stats.norm.interval(0.95, loc=mean, scale=sd / np.sqrt(N))"
   ]
  },
  {
   "cell_type": "markdown",
   "metadata": {},
   "source": [
    "## Mean values for C1_SQ001, C1_SQ002, C1_SQ003"
   ]
  },
  {
   "cell_type": "code",
   "execution_count": 10,
   "metadata": {
    "collapsed": false
   },
   "outputs": [
    {
     "data": {
      "text/plain": [
       "(3.7, 4.425, 5.225)"
      ]
     },
     "execution_count": 10,
     "metadata": {},
     "output_type": "execute_result"
    }
   ],
   "source": [
    "(df.C1_SQ001.mean(), df.C1_SQ002.mean(), df.C1_SQ003.mean())"
   ]
  },
  {
   "cell_type": "markdown",
   "metadata": {},
   "source": [
    "## Wilcoxon signed rank test"
   ]
  },
  {
   "cell_type": "code",
   "execution_count": 33,
   "metadata": {
    "collapsed": true
   },
   "outputs": [],
   "source": [
    "def wtest(a, b):\n",
    "    result = sp.stats.wilcoxon(a, b)\n",
    "    print(\"statistic={}, pvalue={:.4f}\".format(*result))\n",
    "    print(\"effect size: r={:.2f}\".format(result.statistic / np.sqrt(len(a))))\n",
    "    "
   ]
  },
  {
   "cell_type": "code",
   "execution_count": 34,
   "metadata": {
    "collapsed": false
   },
   "outputs": [
    {
     "name": "stdout",
     "output_type": "stream",
     "text": [
      "statistic=23.0, pvalue=0.0000\n",
      "effect size: r=3.64\n",
      "statistic=113.5, pvalue=0.0021\n",
      "effect size: r=17.95\n"
     ]
    }
   ],
   "source": [
    "wtest(df.C1_SQ001, df.C1_SQ002)\n",
    "wtest(df.C1_SQ002, df.C1_SQ003)"
   ]
  },
  {
   "cell_type": "code",
   "execution_count": 35,
   "metadata": {
    "collapsed": false
   },
   "outputs": [
    {
     "data": {
      "text/plain": [
       "(2.65, 3.975, 4.4)"
      ]
     },
     "execution_count": 35,
     "metadata": {},
     "output_type": "execute_result"
    }
   ],
   "source": [
    "(df.C2_SQ003.mean(), df.C2_SQ001.mean(), df.C2_SQ002.mean())"
   ]
  },
  {
   "cell_type": "code",
   "execution_count": 36,
   "metadata": {
    "collapsed": false
   },
   "outputs": [
    {
     "name": "stdout",
     "output_type": "stream",
     "text": [
      "statistic=38.0, pvalue=0.0007\n",
      "effect size: r=6.01\n",
      "statistic=89.0, pvalue=0.0445\n",
      "effect size: r=14.07\n"
     ]
    }
   ],
   "source": [
    "wtest(df.C2_SQ003, df.C2_SQ001)\n",
    "wtest(df.C2_SQ001, df.C2_SQ002)"
   ]
  },
  {
   "cell_type": "code",
   "execution_count": 37,
   "metadata": {
    "collapsed": false
   },
   "outputs": [
    {
     "data": {
      "text/plain": [
       "(3.55, 4.275, 5.825)"
      ]
     },
     "execution_count": 37,
     "metadata": {},
     "output_type": "execute_result"
    }
   ],
   "source": [
    "(df.C3_SQ001.mean(), df.C3_SQ002.mean(), df.C3_SQ003.mean())"
   ]
  },
  {
   "cell_type": "code",
   "execution_count": 38,
   "metadata": {
    "collapsed": false
   },
   "outputs": [
    {
     "name": "stdout",
     "output_type": "stream",
     "text": [
      "statistic=37.5, pvalue=0.0005\n",
      "effect size: r=5.93\n",
      "statistic=9.5, pvalue=0.0000\n",
      "effect size: r=1.50\n"
     ]
    }
   ],
   "source": [
    "wtest(df.C3_SQ001, df.C3_SQ002)\n",
    "wtest(df.C3_SQ002, df.C3_SQ003)"
   ]
  },
  {
   "cell_type": "code",
   "execution_count": null,
   "metadata": {
    "collapsed": true
   },
   "outputs": [],
   "source": []
  }
 ],
 "metadata": {
  "anaconda-cloud": {},
  "kernelspec": {
   "display_name": "Python [conda root]",
   "language": "python",
   "name": "conda-root-py"
  },
  "language_info": {
   "codemirror_mode": {
    "name": "ipython",
    "version": 3
   },
   "file_extension": ".py",
   "mimetype": "text/x-python",
   "name": "python",
   "nbconvert_exporter": "python",
   "pygments_lexer": "ipython3",
   "version": "3.5.2"
  }
 },
 "nbformat": 4,
 "nbformat_minor": 1
}
